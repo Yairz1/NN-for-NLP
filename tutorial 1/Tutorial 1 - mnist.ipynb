{
 "cells": [
  {
   "cell_type": "code",
   "execution_count": 2,
   "metadata": {},
   "outputs": [
    {
     "data": {
      "text/plain": [
       "device(type='cuda', index=0)"
      ]
     },
     "execution_count": 2,
     "metadata": {},
     "output_type": "execute_result"
    }
   ],
   "source": [
    "import torch\n",
    "import torchvision\n",
    "import torch.nn as nn\n",
    "import torch.nn.functional as F\n",
    "import torch.optim as optim\n",
    "torch.device(\"cuda:0\")"
   ]
  },
  {
   "cell_type": "markdown",
   "metadata": {},
   "source": [
    "Hyper params"
   ]
  },
  {
   "cell_type": "code",
   "execution_count": 66,
   "metadata": {},
   "outputs": [
    {
     "data": {
      "text/plain": [
       "<torch._C.Generator at 0x7f685bfc5910>"
      ]
     },
     "execution_count": 66,
     "metadata": {},
     "output_type": "execute_result"
    }
   ],
   "source": [
    "n_epochs = 3\n",
    "batch_size_train = 64\n",
    "batch_size_test = 1000\n",
    "learning_rate = 0.01\n",
    "momentum = 0.5\n",
    "log_interval = 10\n",
    "\n",
    "random_seed = 1\n",
    "torch.backends.cudnn.enabled = False\n",
    "torch.manual_seed(random_seed)"
   ]
  },
  {
   "cell_type": "code",
   "execution_count": 67,
   "metadata": {},
   "outputs": [],
   "source": [
    "train_loader = torch.utils.data.DataLoader(\n",
    "  torchvision.datasets.MNIST('./mnist data', train=True, download=True,\n",
    "                             transform=torchvision.transforms.Compose([\n",
    "                               torchvision.transforms.ToTensor(),\n",
    "                               torchvision.transforms.Normalize(\n",
    "                                 (0.1307,), (0.3081,))\n",
    "                             ])),\n",
    "  batch_size=batch_size_train, shuffle=True)\n",
    "\n",
    "test_loader = torch.utils.data.DataLoader(\n",
    "  torchvision.datasets.MNIST('./mnist data', train=False, download=True,\n",
    "                             transform=torchvision.transforms.Compose([\n",
    "                               torchvision.transforms.ToTensor(),\n",
    "                               torchvision.transforms.Normalize(\n",
    "                                 (0.1307,), (0.3081,))\n",
    "                             ])),\n",
    "  batch_size=batch_size_test, shuffle=True)"
   ]
  },
  {
   "cell_type": "code",
   "execution_count": 68,
   "metadata": {},
   "outputs": [],
   "source": [
    "class Net(nn.Module):\n",
    "    def __init__(self):\n",
    "        super(Net, self).__init__()\n",
    "        self.conv1 = nn.Conv2d(1, 10, kernel_size=5)\n",
    "        self.conv2 = nn.Conv2d(10, 20, kernel_size=5)\n",
    "        self.conv2_drop = nn.Dropout2d()\n",
    "        self.fc1 = nn.Linear(320, 50)\n",
    "        self.fc2 = nn.Linear(50, 10)\n",
    "\n",
    "    def forward(self, x):\n",
    "        x = F.relu(F.max_pool2d(self.conv1(x), 2))\n",
    "        x = F.relu(F.max_pool2d(self.conv2_drop(self.conv2(x)), 2))\n",
    "        x = x.view(-1, 320)\n",
    "        x = F.relu(self.fc1(x))\n",
    "        x = F.dropout(x, training=self.training)\n",
    "        x = self.fc2(x)\n",
    "        return F.log_softmax(x)"
   ]
  },
  {
   "cell_type": "code",
   "execution_count": 69,
   "metadata": {},
   "outputs": [],
   "source": [
    "train_losses = []\n",
    "train_counter = []\n",
    "test_losses = []\n",
    "test_counter = [i*len(train_loader.dataset) for i in range(n_epochs + 1)]"
   ]
  },
  {
   "cell_type": "code",
   "execution_count": 70,
   "metadata": {},
   "outputs": [],
   "source": [
    "network = Net()\n",
    "network.cuda()   # passing arguments to the gpu before we define te optimizer\n",
    "optimizer = optim.SGD(network.parameters(), lr=learning_rate,\n",
    "                      momentum=momentum)"
   ]
  },
  {
   "cell_type": "code",
   "execution_count": 71,
   "metadata": {},
   "outputs": [],
   "source": [
    "def train(epoch):\n",
    "    network.train()\n",
    "    for batch_idx, (data, target) in enumerate(train_loader):\n",
    "        optimizer.zero_grad()\n",
    "        data = data.to('cuda')\n",
    "        target = target.to('cuda')\n",
    "        output = network(data)\n",
    "        loss = F.nll_loss(output, target) # negative log likelihood loss.\n",
    "        loss.backward() # computes dloss/dx for every parameter x which has requires_grad=True. \n",
    "        optimizer.step() # updates the value of x using the gradient x.grad.\n",
    "    if batch_idx % log_interval == 0:\n",
    "        print('Train Epoch: {} [{}/{} ({:.0f}%)]\\tLoss: {:.6f}'.format(\n",
    "        epoch, batch_idx * len(data), len(train_loader.dataset),\n",
    "        100. * batch_idx / len(train_loader), loss.item()))\n",
    "        train_losses.append(loss.item())\n",
    "        train_counter.append(\n",
    "        (batch_idx*64) + ((epoch-1)*len(train_loader.dataset)))\n",
    "        torch.save(network.state_dict(), '/results/model.pth')\n",
    "        torch.save(optimizer.state_dict(), '/results/optimizer.pth')"
   ]
  },
  {
   "cell_type": "code",
   "execution_count": 72,
   "metadata": {},
   "outputs": [],
   "source": [
    "def test():\n",
    "    network.eval()\n",
    "    test_loss = 0\n",
    "    correct = 0\n",
    "    with torch.no_grad():\n",
    "        for data, target in test_loader:\n",
    "            data = data.to('cuda')\n",
    "            target = target.to('cuda')\n",
    "            print(\"data s {} target s {}\".format(len(data),len(target)))\n",
    "\n",
    "            output = network(data)\n",
    "            print(\"output s {} target s {}\".format(len(output),len(target)))\n",
    "\n",
    "            test_loss += F.nll_loss(output, target, size_average=False).item()\n",
    "            pred = output.data.max(1, keepdim=True)[1]\n",
    "            correct += pred.eq(target.data.view_as(pred)).sum()\n",
    "    test_loss /= len(test_loader.dataset)\n",
    "    test_losses.append(test_loss)\n",
    "    print('\\nTest set: Avg. loss: {:.4f}, Accuracy: {}/{} ({:.0f}%)\\n'.format(\n",
    "        test_loss, correct, len(test_loader.dataset),\n",
    "        100. * correct / len(test_loader.dataset)))"
   ]
  },
  {
   "cell_type": "code",
   "execution_count": 73,
   "metadata": {},
   "outputs": [
    {
     "name": "stdout",
     "output_type": "stream",
     "text": [
      "data s 1000 target s 1000\n",
      "output s 1000 target s 1000\n",
      "data s 1000 target s 1000\n"
     ]
    },
    {
     "name": "stderr",
     "output_type": "stream",
     "text": [
      "/usr/local/lib/python3.6/site-packages/ipykernel_launcher.py:17: UserWarning: Implicit dimension choice for log_softmax has been deprecated. Change the call to include dim=X as an argument.\n"
     ]
    },
    {
     "name": "stdout",
     "output_type": "stream",
     "text": [
      "output s 1000 target s 1000\n",
      "data s 1000 target s 1000\n",
      "output s 1000 target s 1000\n",
      "data s 1000 target s 1000\n",
      "output s 1000 target s 1000\n",
      "data s 1000 target s 1000\n",
      "output s 1000 target s 1000\n",
      "data s 1000 target s 1000\n",
      "output s 1000 target s 1000\n",
      "data s 1000 target s 1000\n",
      "output s 1000 target s 1000\n",
      "data s 1000 target s 1000\n",
      "output s 1000 target s 1000\n",
      "data s 1000 target s 1000\n",
      "output s 1000 target s 1000\n",
      "data s 1000 target s 1000\n",
      "output s 1000 target s 1000\n",
      "\n",
      "Test set: Avg. loss: 2.3316, Accuracy: 1137/10000 (11%)\n",
      "\n",
      "data s 1000 target s 1000\n",
      "output s 1000 target s 1000\n",
      "data s 1000 target s 1000\n",
      "output s 1000 target s 1000\n",
      "data s 1000 target s 1000\n",
      "output s 1000 target s 1000\n",
      "data s 1000 target s 1000\n",
      "output s 1000 target s 1000\n",
      "data s 1000 target s 1000\n",
      "output s 1000 target s 1000\n",
      "data s 1000 target s 1000\n",
      "output s 1000 target s 1000\n",
      "data s 1000 target s 1000\n",
      "output s 1000 target s 1000\n",
      "data s 1000 target s 1000\n",
      "output s 1000 target s 1000\n",
      "data s 1000 target s 1000\n",
      "output s 1000 target s 1000\n",
      "data s 1000 target s 1000\n",
      "output s 1000 target s 1000\n",
      "\n",
      "Test set: Avg. loss: 0.2044, Accuracy: 9405/10000 (94%)\n",
      "\n",
      "data s 1000 target s 1000\n",
      "output s 1000 target s 1000\n",
      "data s 1000 target s 1000\n",
      "output s 1000 target s 1000\n",
      "data s 1000 target s 1000\n",
      "output s 1000 target s 1000\n",
      "data s 1000 target s 1000\n",
      "output s 1000 target s 1000\n",
      "data s 1000 target s 1000\n",
      "output s 1000 target s 1000\n",
      "data s 1000 target s 1000\n",
      "output s 1000 target s 1000\n",
      "data s 1000 target s 1000\n",
      "output s 1000 target s 1000\n",
      "data s 1000 target s 1000\n",
      "output s 1000 target s 1000\n",
      "data s 1000 target s 1000\n",
      "output s 1000 target s 1000\n",
      "data s 1000 target s 1000\n",
      "output s 1000 target s 1000\n",
      "\n",
      "Test set: Avg. loss: 0.1291, Accuracy: 9593/10000 (95%)\n",
      "\n",
      "data s 1000 target s 1000\n",
      "output s 1000 target s 1000\n",
      "data s 1000 target s 1000\n",
      "output s 1000 target s 1000\n",
      "data s 1000 target s 1000\n",
      "output s 1000 target s 1000\n",
      "data s 1000 target s 1000\n",
      "output s 1000 target s 1000\n",
      "data s 1000 target s 1000\n",
      "output s 1000 target s 1000\n",
      "data s 1000 target s 1000\n",
      "output s 1000 target s 1000\n",
      "data s 1000 target s 1000\n",
      "output s 1000 target s 1000\n",
      "data s 1000 target s 1000\n",
      "output s 1000 target s 1000\n",
      "data s 1000 target s 1000\n",
      "output s 1000 target s 1000\n",
      "data s 1000 target s 1000\n",
      "output s 1000 target s 1000\n",
      "\n",
      "Test set: Avg. loss: 0.1023, Accuracy: 9675/10000 (96%)\n",
      "\n"
     ]
    }
   ],
   "source": [
    "test()\n",
    "for epoch in range(1, n_epochs + 1):\n",
    "    train(epoch)\n",
    "    test()"
   ]
  },
  {
   "cell_type": "code",
   "execution_count": null,
   "metadata": {},
   "outputs": [],
   "source": []
  }
 ],
 "metadata": {
  "kernelspec": {
   "display_name": "Python 3",
   "language": "python",
   "name": "python3"
  },
  "language_info": {
   "codemirror_mode": {
    "name": "ipython",
    "version": 3
   },
   "file_extension": ".py",
   "mimetype": "text/x-python",
   "name": "python",
   "nbconvert_exporter": "python",
   "pygments_lexer": "ipython3",
   "version": "3.6.7"
  }
 },
 "nbformat": 4,
 "nbformat_minor": 2
}
